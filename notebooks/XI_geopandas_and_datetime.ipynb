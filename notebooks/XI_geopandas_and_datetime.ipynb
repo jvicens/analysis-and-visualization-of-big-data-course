{
 "cells": [
  {
   "cell_type": "markdown",
   "metadata": {
    "tags": []
   },
   "source": [
    "# Overview\n",
    "\n",
    "1. [Introduction to GeoPandas](#1)\n",
    "2. [Datetime in pandas](#2)\n",
    "\n",
    "\n",
    "# Introduction to GeoPandas<a class=\"anchor\" id=1></a>\n",
    "\n",
    "GeoPandas is a python library for geospatial data in pandas DataFrames. \n",
    "\n",
    "    import pandas as pd\n",
    "    import geopandas as gdp\n",
    "    \n",
    "    df  = pd.DataFrame()\n",
    "    gdf = gpd.GeoDataFrame()\n",
    "\n",
    "A GeoDataFrame can be regarded as a DataFrame plus an extra column: a GeoSeries.\n",
    "GeoSeries can contain the following geometries\n",
    " \n",
    "    POINTS, MULTIPOINTS     # e.g. for an address\n",
    "    LINES, MULTILINES       # e.g. for a street\n",
    "    POLYGONS, MULTIPOLYGONS # e.g. for city boarders\n",
    "    \n",
    "Additionally, the GeoSeries has an attribute for the [Coordinate Reference System](https://en.wikibooks.org/wiki/Coordinate_Reference_Systems_and_Positioning) (Mercator projection etc.), `GeoSeries.crs`. For instance `crs=\"EPSG:4326\"` references the World Geodetic System (WGS84) which is the typical projection used for GPS data. \n",
    "\n",
    "There can actually be more than one GeoSeries columns within a GeoDataFrame, but always only one `geometry` is active at a time.\n",
    "\n",
    "Geometries of geographical data are typically stored in shape files, e.g. with ending .shp. The shape file only contains the GPS-data itself, and must be accompannied by other files with ending .shx (e.g. city names corresponding to shapes), .prj with the projection, and others. Another common file type is GeoJSON, which contains all the information in *one* file.\n",
    "    \n",
    "See also: [geopandas User Guide](https://geopandas.org/en/stable/docs/user_guide/data_structures.html).\n"
   ]
  },
  {
   "cell_type": "code",
   "execution_count": null,
   "metadata": {},
   "outputs": [],
   "source": [
    "import geopandas as gpd\n",
    "import pandas as pd\n",
    "from matplotlib import pyplot as plt"
   ]
  },
  {
   "cell_type": "markdown",
   "metadata": {},
   "source": [
    "#### Data directory"
   ]
  },
  {
   "cell_type": "code",
   "execution_count": null,
   "metadata": {},
   "outputs": [],
   "source": [
    "data_dir = '../data/'"
   ]
  },
  {
   "cell_type": "markdown",
   "metadata": {},
   "source": [
    "## (Download and) load the shape of Spain\n",
    "Downloaded from http://centrodedescargas.cnig.es/CentroDescargas/index.jsp > Mapas vectoriales y Bases Cartográficas y Topográficas:\n",
    "\n",
    "    BCN500\n",
    "    Description: Base Cartográfica Nacional a escala 1:500.000.\n",
    "    SGR: ETRS89. Coordenadas geográficas longitud y latitud.\n",
    "    Download entity: toda España y por capas temáticas.\n",
    "    Format: shapefile (.shp)"
   ]
  },
  {
   "cell_type": "code",
   "execution_count": null,
   "metadata": {
    "scrolled": true
   },
   "outputs": [],
   "source": [
    "# Load shape file into GeoDataFrame\n",
    "spain = gpd.read_file(data_dir + \"carto/BCN500_0101S_LIMITE_ADM.shp\", crs=\"EPSG:4326\") \n"
   ]
  },
  {
   "cell_type": "code",
   "execution_count": null,
   "metadata": {},
   "outputs": [],
   "source": [
    "# Filter countries out, with boolean filtering, just as you would do for pandas DataFrames\n",
    "# CCAA is the abbreviation for Autonomous region in Spain\n",
    "spain = spain[~spain[\"CCAA\"].isin([\"SAHARA OCCIDENTAL\", \"ALGERIA\", \"PORTUGAL\", 'MARRUECOS', 'MAURITANIA','FRANCIA', 'ANDORRA'])]\n"
   ]
  },
  {
   "cell_type": "code",
   "execution_count": null,
   "metadata": {},
   "outputs": [],
   "source": [
    "# plot spain\n",
    "spain.plot()"
   ]
  },
  {
   "cell_type": "code",
   "execution_count": null,
   "metadata": {},
   "outputs": [],
   "source": [
    "plt.clf()\n",
    "# separate balears and canary islands, to plot them independently\n",
    "spain_main_land = spain[~spain[\"CCAA\"].isin(['Illes Balears', 'Canarias'])]\n",
    "spain_canarias  = spain[spain[\"CCAA\"].isin(['Canarias'])]\n",
    "spain_baleares  = spain[spain[\"CCAA\"].isin(['Illes Balears'])]\n",
    "\n",
    "# create canvas where balears and canary islands are plotted independently\n",
    "f, ax = plt.subplots(figsize=(10,10))\n",
    "axin1 = ax.inset_axes([-0.05, -0.05, 0.3, 0.3])\n",
    "axin1.xaxis.tick_top()\n",
    "axin1.yaxis.tick_right()\n",
    "\n",
    "axin2 = ax.inset_axes([0.8, 0.4, 0.25, 0.25])\n",
    "axin2.yaxis.tick_right()\n",
    "\n",
    "spain_main_land.plot(ax=ax, color=\"lightgray\")\n",
    "spain_canarias.plot(ax = axin1, color=\"lightgray\")\n",
    "spain_baleares.plot(ax = axin2, color=\"lightgray\")"
   ]
  },
  {
   "cell_type": "markdown",
   "metadata": {
    "tags": []
   },
   "source": [
    "### Writing files\n",
    "\n",
    "Just as you can load geodata with read_file, you can save geodata to files with to_file"
   ]
  },
  {
   "cell_type": "code",
   "execution_count": null,
   "metadata": {},
   "outputs": [],
   "source": [
    "# in one geojson\n",
    "spain_baleares.to_file(data_dir + \"carto/spain_baleares_gj.geojson\", driver=\"GeoJSON\")\n",
    "\n",
    "# in several files including a shp file\n",
    "spain_baleares.to_file(data_dir + \"carto/spain_baleares.shp\")"
   ]
  },
  {
   "cell_type": "markdown",
   "metadata": {},
   "source": [
    "# Datetime in Pandas<a class=\"anchor\" id=2></a>"
   ]
  },
  {
   "cell_type": "code",
   "execution_count": null,
   "metadata": {},
   "outputs": [],
   "source": [
    "#!/usr/bin/env python\n",
    "\n",
    "# make sure to install these packages before running:\n",
    "# pip install pandas\n",
    "# pip install sodapy\n",
    "\n",
    "import pandas as pd\n",
    "from sodapy import Socrata\n",
    "\n",
    "# Unauthenticated client only works with public data sets. Note 'None'\n",
    "# in place of application token, and no username or password:\n",
    "client = Socrata(\"analisi.transparenciacatalunya.cat\", None)\n",
    "\n",
    "# Example authenticated client (needed for non-public datasets):\n",
    "# client = Socrata(analisi.transparenciacatalunya.cat,\n",
    "#                  MyAppToken,\n",
    "#                  username=\"user@example.com\",\n",
    "#                  password=\"AFakePassword\")\n",
    "\n",
    "# First 2000 results, returned as JSON from API / converted to Python list of\n",
    "# dictionaries by sodapy.\n",
    "results = client.get(\"pvrz-iijx\", limit=10000)\n",
    "\n",
    "# Convert to pandas DataFrame\n",
    "results_df = pd.DataFrame.from_records(results)"
   ]
  },
  {
   "cell_type": "code",
   "execution_count": null,
   "metadata": {},
   "outputs": [],
   "source": [
    "# drop datetimes that are nans\n",
    "results_df = results_df[results_df.data_naixement_infant.notna()]\n",
    "results_df"
   ]
  },
  {
   "cell_type": "code",
   "execution_count": null,
   "metadata": {},
   "outputs": [],
   "source": [
    "# add datetime column with python datetimes\n",
    "results_df[\"data_naixement_infant_datetime\"] = pd.to_datetime(results_df.data_naixement_infant)"
   ]
  },
  {
   "cell_type": "code",
   "execution_count": null,
   "metadata": {},
   "outputs": [],
   "source": [
    "results_df"
   ]
  },
  {
   "cell_type": "markdown",
   "metadata": {},
   "source": [
    "### Time zones"
   ]
  },
  {
   "cell_type": "code",
   "execution_count": null,
   "metadata": {},
   "outputs": [],
   "source": [
    "from datetime import datetime\n",
    "import pytz\n",
    "datetime_in_Madrid = datetime.now(pytz.timezone('Europe/Madrid'))"
   ]
  },
  {
   "cell_type": "markdown",
   "metadata": {},
   "source": [
    "### Filter for time ranges"
   ]
  },
  {
   "cell_type": "code",
   "execution_count": null,
   "metadata": {},
   "outputs": [],
   "source": [
    "start = datetime.strptime('01/01/2001', '%d/%m/%Y')\n",
    "end = datetime.strptime('02/01/2001', '%d/%m/%Y')\n",
    "\n",
    "results_df_range = results_df[results_df.data_naixement_infant_datetime < end]\n",
    "results_df_range = results_df_range[results_df_range.data_naixement_infant_datetime>=start]\n",
    "results_df_range"
   ]
  },
  {
   "cell_type": "markdown",
   "metadata": {},
   "source": [
    "### Filter for daytimes\n",
    "\n",
    "If any of you has not only the days but actually the daytimes, they could filter for certain times of the day like this:\n",
    "\n",
    "    results_df_with_daytimes.set_index(\"daytimes\").between_time(\"00:05\", \"00:10\")"
   ]
  }
 ],
 "metadata": {
  "kernelspec": {
   "display_name": "ub",
   "language": "python",
   "name": "ub"
  },
  "language_info": {
   "codemirror_mode": {
    "name": "ipython",
    "version": 3
   },
   "file_extension": ".py",
   "mimetype": "text/x-python",
   "name": "python",
   "nbconvert_exporter": "python",
   "pygments_lexer": "ipython3",
   "version": "3.9.6"
  }
 },
 "nbformat": 4,
 "nbformat_minor": 4
}
