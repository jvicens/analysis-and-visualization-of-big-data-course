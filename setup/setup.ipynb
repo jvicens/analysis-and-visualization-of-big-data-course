{
 "cells": [
  {
   "metadata": {},
   "cell_type": "markdown",
   "source": [
    "\n",
    "# Test environment notebook\n",
    "Checks all required Python libraries.\n"
   ],
   "id": "6bd80e1fa8225daf"
  },
  {
   "metadata": {},
   "cell_type": "code",
   "source": [
    "print(\"=== Checking core libraries ===\")\n",
    "import sys, importlib\n",
    "\n",
    "libs = [\n",
    "    \"numpy\", \"pandas\", \"matplotlib\", \"seaborn\", \"scipy\",\n",
    "    \"plotly\", \"openpyxl\", \"geopandas\", \"fiona\", \"shapely\",\n",
    "    \"pyproj\", \"rtree\", \"ydata_profiling\", \"sodapy\", \"pandas_bokeh\"\n",
    "]\n",
    "\n",
    "for lib in libs:\n",
    "    try:\n",
    "        mod = importlib.import_module(lib)\n",
    "        ver = getattr(mod, \"__version__\", \"no version info\")\n",
    "        print(f\"✅ {lib} ({ver})\")\n",
    "    except Exception as e:\n",
    "        print(f\"❌ {lib} failed to import: {e}\")\n",
    "\n",
    "print(\"\\n=== Basic functionality tests ===\")\n",
    "\n",
    "# ---- NumPy & Pandas ----\n",
    "import numpy as np, pandas as pd\n",
    "arr = np.random.rand(3, 3)\n",
    "df = pd.DataFrame(arr, columns=[\"A\",\"B\",\"C\"])\n",
    "print(\"Pandas DataFrame created:\\n\", df.head(), \"\\n\")\n",
    "\n",
    "# ---- Matplotlib ----\n",
    "import matplotlib.pyplot as plt\n",
    "plt.plot([0, 1, 2], [0, 1, 4])\n",
    "plt.title(\"Matplotlib test plot\")\n",
    "plt.show()\n",
    "\n",
    "# ---- Seaborn ----\n",
    "import seaborn as sns\n",
    "sns.set_theme()\n",
    "sns.histplot(df[\"A\"])\n",
    "plt.title(\"Seaborn test plot\")\n",
    "plt.show()\n",
    "\n",
    "# ---- Plotly ----\n",
    "import plotly.express as px\n",
    "fig = px.line(df, x=\"A\", y=\"B\", title=\"Plotly interactive test\")\n",
    "fig.show()\n",
    "\n",
    "# ---- GeoPandas ----\n",
    "import geopandas as gpd\n",
    "from shapely.geometry import Point\n",
    "gdf = gpd.GeoDataFrame({\"value\":[1,2,3]}, geometry=[Point(2,3), Point(3,4), Point(4,5)])\n",
    "print(\"GeoDataFrame created:\\n\", gdf.head(), \"\\n\")\n",
    "\n",
    "# ---- ydata_profiling ----\n",
    "from ydata_profiling import ProfileReport\n",
    "profile = ProfileReport(df, minimal=True)\n",
    "print(\"ydata_profiling works (report generated in memory)\")\n",
    "\n",
    "# ---- sodapy ----\n",
    "from sodapy import Socrata\n",
    "print(\"sodapy imported successfully (requires API token for real calls)\")\n",
    "\n",
    "print(\"\\n🎉 All libraries imported and basic tests completed successfully!\")\n"
   ],
   "id": "8fe1d698fb1a0a8b",
   "outputs": [],
   "execution_count": null
  }
 ],
 "metadata": {
  "kernelspec": {
   "display_name": "Python 3",
   "language": "python",
   "name": "python3"
  },
  "language_info": {
   "codemirror_mode": {
    "name": "ipython",
    "version": 2
   },
   "file_extension": ".py",
   "mimetype": "text/x-python",
   "name": "python",
   "nbconvert_exporter": "python",
   "pygments_lexer": "ipython2",
   "version": "2.7.6"
  }
 },
 "nbformat": 4,
 "nbformat_minor": 5
}
